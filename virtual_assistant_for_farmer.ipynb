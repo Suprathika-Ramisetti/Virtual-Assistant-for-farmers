{
  "nbformat": 4,
  "nbformat_minor": 0,
  "metadata": {
    "colab": {
      "provenance": []
    },
    "kernelspec": {
      "name": "python3",
      "display_name": "Python 3"
    },
    "language_info": {
      "name": "python"
    }
  },
  "cells": [
    {
      "cell_type": "code",
      "execution_count": null,
      "metadata": {
        "id": "yL58O-ZnaFl8",
        "colab": {
          "base_uri": "https://localhost:8080/"
        },
        "outputId": "99aa1fd8-7b4e-42d6-b71f-f206a5e807ec"
      },
      "outputs": [
        {
          "output_type": "stream",
          "name": "stdout",
          "text": [
            "Requirement already satisfied: transformers in /usr/local/lib/python3.10/dist-packages (4.33.3)\n",
            "Requirement already satisfied: filelock in /usr/local/lib/python3.10/dist-packages (from transformers) (3.12.2)\n",
            "Requirement already satisfied: huggingface-hub<1.0,>=0.15.1 in /usr/local/lib/python3.10/dist-packages (from transformers) (0.17.3)\n",
            "Requirement already satisfied: numpy>=1.17 in /usr/local/lib/python3.10/dist-packages (from transformers) (1.23.5)\n",
            "Requirement already satisfied: packaging>=20.0 in /usr/local/lib/python3.10/dist-packages (from transformers) (23.1)\n",
            "Requirement already satisfied: pyyaml>=5.1 in /usr/local/lib/python3.10/dist-packages (from transformers) (6.0.1)\n",
            "Requirement already satisfied: regex!=2019.12.17 in /usr/local/lib/python3.10/dist-packages (from transformers) (2023.6.3)\n",
            "Requirement already satisfied: requests in /usr/local/lib/python3.10/dist-packages (from transformers) (2.31.0)\n",
            "Requirement already satisfied: tokenizers!=0.11.3,<0.14,>=0.11.1 in /usr/local/lib/python3.10/dist-packages (from transformers) (0.13.3)\n",
            "Requirement already satisfied: safetensors>=0.3.1 in /usr/local/lib/python3.10/dist-packages (from transformers) (0.3.3)\n",
            "Requirement already satisfied: tqdm>=4.27 in /usr/local/lib/python3.10/dist-packages (from transformers) (4.66.1)\n",
            "Requirement already satisfied: fsspec in /usr/local/lib/python3.10/dist-packages (from huggingface-hub<1.0,>=0.15.1->transformers) (2023.6.0)\n",
            "Requirement already satisfied: typing-extensions>=3.7.4.3 in /usr/local/lib/python3.10/dist-packages (from huggingface-hub<1.0,>=0.15.1->transformers) (4.5.0)\n",
            "Requirement already satisfied: charset-normalizer<4,>=2 in /usr/local/lib/python3.10/dist-packages (from requests->transformers) (3.2.0)\n",
            "Requirement already satisfied: idna<4,>=2.5 in /usr/local/lib/python3.10/dist-packages (from requests->transformers) (3.4)\n",
            "Requirement already satisfied: urllib3<3,>=1.21.1 in /usr/local/lib/python3.10/dist-packages (from requests->transformers) (2.0.4)\n",
            "Requirement already satisfied: certifi>=2017.4.17 in /usr/local/lib/python3.10/dist-packages (from requests->transformers) (2023.7.22)\n",
            "Requirement already satisfied: datasets in /usr/local/lib/python3.10/dist-packages (2.14.5)\n",
            "Requirement already satisfied: numpy>=1.17 in /usr/local/lib/python3.10/dist-packages (from datasets) (1.23.5)\n",
            "Requirement already satisfied: pyarrow>=8.0.0 in /usr/local/lib/python3.10/dist-packages (from datasets) (9.0.0)\n",
            "Requirement already satisfied: dill<0.3.8,>=0.3.0 in /usr/local/lib/python3.10/dist-packages (from datasets) (0.3.7)\n",
            "Requirement already satisfied: pandas in /usr/local/lib/python3.10/dist-packages (from datasets) (1.5.3)\n",
            "Requirement already satisfied: requests>=2.19.0 in /usr/local/lib/python3.10/dist-packages (from datasets) (2.31.0)\n",
            "Requirement already satisfied: tqdm>=4.62.1 in /usr/local/lib/python3.10/dist-packages (from datasets) (4.66.1)\n",
            "Requirement already satisfied: xxhash in /usr/local/lib/python3.10/dist-packages (from datasets) (3.3.0)\n",
            "Requirement already satisfied: multiprocess in /usr/local/lib/python3.10/dist-packages (from datasets) (0.70.15)\n",
            "Requirement already satisfied: fsspec[http]<2023.9.0,>=2023.1.0 in /usr/local/lib/python3.10/dist-packages (from datasets) (2023.6.0)\n",
            "Requirement already satisfied: aiohttp in /usr/local/lib/python3.10/dist-packages (from datasets) (3.8.5)\n",
            "Requirement already satisfied: huggingface-hub<1.0.0,>=0.14.0 in /usr/local/lib/python3.10/dist-packages (from datasets) (0.17.3)\n",
            "Requirement already satisfied: packaging in /usr/local/lib/python3.10/dist-packages (from datasets) (23.1)\n",
            "Requirement already satisfied: pyyaml>=5.1 in /usr/local/lib/python3.10/dist-packages (from datasets) (6.0.1)\n",
            "Requirement already satisfied: attrs>=17.3.0 in /usr/local/lib/python3.10/dist-packages (from aiohttp->datasets) (23.1.0)\n",
            "Requirement already satisfied: charset-normalizer<4.0,>=2.0 in /usr/local/lib/python3.10/dist-packages (from aiohttp->datasets) (3.2.0)\n",
            "Requirement already satisfied: multidict<7.0,>=4.5 in /usr/local/lib/python3.10/dist-packages (from aiohttp->datasets) (6.0.4)\n",
            "Requirement already satisfied: async-timeout<5.0,>=4.0.0a3 in /usr/local/lib/python3.10/dist-packages (from aiohttp->datasets) (4.0.3)\n",
            "Requirement already satisfied: yarl<2.0,>=1.0 in /usr/local/lib/python3.10/dist-packages (from aiohttp->datasets) (1.9.2)\n",
            "Requirement already satisfied: frozenlist>=1.1.1 in /usr/local/lib/python3.10/dist-packages (from aiohttp->datasets) (1.4.0)\n",
            "Requirement already satisfied: aiosignal>=1.1.2 in /usr/local/lib/python3.10/dist-packages (from aiohttp->datasets) (1.3.1)\n",
            "Requirement already satisfied: filelock in /usr/local/lib/python3.10/dist-packages (from huggingface-hub<1.0.0,>=0.14.0->datasets) (3.12.2)\n",
            "Requirement already satisfied: typing-extensions>=3.7.4.3 in /usr/local/lib/python3.10/dist-packages (from huggingface-hub<1.0.0,>=0.14.0->datasets) (4.5.0)\n",
            "Requirement already satisfied: idna<4,>=2.5 in /usr/local/lib/python3.10/dist-packages (from requests>=2.19.0->datasets) (3.4)\n",
            "Requirement already satisfied: urllib3<3,>=1.21.1 in /usr/local/lib/python3.10/dist-packages (from requests>=2.19.0->datasets) (2.0.4)\n",
            "Requirement already satisfied: certifi>=2017.4.17 in /usr/local/lib/python3.10/dist-packages (from requests>=2.19.0->datasets) (2023.7.22)\n",
            "Requirement already satisfied: python-dateutil>=2.8.1 in /usr/local/lib/python3.10/dist-packages (from pandas->datasets) (2.8.2)\n",
            "Requirement already satisfied: pytz>=2020.1 in /usr/local/lib/python3.10/dist-packages (from pandas->datasets) (2023.3.post1)\n",
            "Requirement already satisfied: six>=1.5 in /usr/local/lib/python3.10/dist-packages (from python-dateutil>=2.8.1->pandas->datasets) (1.16.0)\n"
          ]
        }
      ],
      "source": [
        "!pip install transformers\n",
        "!pip install datasets\n"
      ]
    },
    {
      "cell_type": "code",
      "source": [
        "import pandas as pd\n",
        "from transformers import GPT2LMHeadModel, GPT2TokenizerFast\n",
        "from transformers import DataCollatorForLanguageModeling\n",
        "from transformers import Trainer, TrainingArguments\n",
        "from datasets import Dataset\n",
        "\n",
        "def process_csv(file_path):\n",
        "    df = pd.read_csv(\"/content/questionsv4 (1).csv\")\n",
        "    qa_pairs = []\n",
        "\n",
        "    for index, row in df.iterrows():\n",
        "        question = row['question']\n",
        "        answer = row['answer']\n",
        "        qa_pairs.append(f\"Question: {question}\\nAnswer: {answer}\\n\")\n",
        "\n",
        "    return qa_pairs\n",
        "\n",
        "def load_dataset(file_path, tokenizer):\n",
        "    qa_pairs = process_csv(file_path)\n",
        "    tokenized_dataset = tokenizer(qa_pairs, truncation=True,\n",
        "                                  padding='max_length', max_length=128,\n",
        "                                  return_tensors=\"pt\")\n",
        "    dataset = Dataset.from_dict(tokenized_dataset)\n",
        "    return dataset\n",
        "\n",
        "# Load the pre-trained GPT-2 model and tokenizer\n",
        "model_name = \"gpt2\"\n",
        "tokenizer = GPT2TokenizerFast.from_pretrained(model_name)\n",
        "tokenizer.pad_token = tokenizer.eos_token\n",
        "model = GPT2LMHeadModel.from_pretrained(model_name)\n",
        "\n"
      ],
      "metadata": {
        "id": "s3QgGZBVaJQs"
      },
      "execution_count": null,
      "outputs": []
    },
    {
      "cell_type": "code",
      "source": [
        "# Save the fine-tuned model\n",
        "model.save_pretrained(\"fine_QA_gpt2\")"
      ],
      "metadata": {
        "id": "S1GW37W0aLop"
      },
      "execution_count": null,
      "outputs": []
    },
    {
      "cell_type": "code",
      "source": [
        "!pip install pyTelegramBotAPI"
      ],
      "metadata": {
        "colab": {
          "base_uri": "https://localhost:8080/"
        },
        "id": "hmZZG1VcnhlU",
        "outputId": "82ad4da0-a22b-421d-f5c7-a7d08f2bc980"
      },
      "execution_count": null,
      "outputs": [
        {
          "output_type": "stream",
          "name": "stdout",
          "text": [
            "Requirement already satisfied: pyTelegramBotAPI in /usr/local/lib/python3.10/dist-packages (4.14.0)\n",
            "Requirement already satisfied: requests in /usr/local/lib/python3.10/dist-packages (from pyTelegramBotAPI) (2.31.0)\n",
            "Requirement already satisfied: charset-normalizer<4,>=2 in /usr/local/lib/python3.10/dist-packages (from requests->pyTelegramBotAPI) (3.2.0)\n",
            "Requirement already satisfied: idna<4,>=2.5 in /usr/local/lib/python3.10/dist-packages (from requests->pyTelegramBotAPI) (3.4)\n",
            "Requirement already satisfied: urllib3<3,>=1.21.1 in /usr/local/lib/python3.10/dist-packages (from requests->pyTelegramBotAPI) (2.0.4)\n",
            "Requirement already satisfied: certifi>=2017.4.17 in /usr/local/lib/python3.10/dist-packages (from requests->pyTelegramBotAPI) (2023.7.22)\n"
          ]
        }
      ]
    },
    {
      "cell_type": "code",
      "source": [
        "import telebot\n",
        "from transformers import GPT2LMHeadModel, GPT2Tokenizer\n",
        "\n",
        "# Load the fine-tuned model\n",
        "fine_tuned_model = GPT2LMHeadModel.from_pretrained(\"fine_QA_gpt2\")\n",
        "\n",
        "# Instantiate the tokenizer\n",
        "tokenizer = GPT2Tokenizer.from_pretrained(\"gpt2\")\n",
        "\n",
        "# Replace \"YOUR_API_TOKEN\" with your Telegram Bot API token\n",
        "API_TOKEN = \"6017018320:AAG-GSgHSU3aOsPdAfOVnsq3BoItSVXto6g\"\n",
        "bot = telebot.TeleBot(API_TOKEN)\n",
        "\n",
        "@bot.message_handler(commands=['start'])\n",
        "def start(message):\n",
        "    welcome_message = \"Hello,Welcome to virtual assistant Farmer Bot.I can answer questions about our chatbot platform.What can I help you with? \"\n",
        "    bot.send_message(message.chat.id, welcome_message)\n",
        "\n",
        "@bot.message_handler(func=lambda message: True)\n",
        "def answer_question(message):\n",
        "    question = message.text\n",
        "\n",
        "    # Generate the answer using the fine-tuned GPT-2 model\n",
        "    answer = ask_question(question, fine_tuned_model, tokenizer)\n",
        "\n",
        "    # Send the answer back to the user\n",
        "    bot.send_message(message.chat.id, answer)\n",
        "\n",
        "def ask_question(question, model, tokenizer, max_length=128, num_return_sequences=1):\n",
        "    prompt = f\"Question: {question}\\nAnswer:\"\n",
        "    inputs = tokenizer.encode(prompt, return_tensors=\"pt\", add_special_tokens=True)\n",
        "    outputs = model.generate(\n",
        "        inputs,\n",
        "        max_length=max_length,\n",
        "        num_return_sequences=num_return_sequences,\n",
        "        no_repeat_ngram_size=3,\n",
        "        do_sample=True,\n",
        "        temperature=1.0,\n",
        "        top_k=50,\n",
        "        top_p=0.9,\n",
        "        early_stopping=True,\n",
        "    )\n",
        "\n",
        "    answer = tokenizer.decode(outputs[0], skip_special_tokens=True)\n",
        "    answer = answer.replace(prompt, \"\").strip()\n",
        "\n",
        "    # Truncate the answer after the first newline character\n",
        "    answer = answer.split(\"\\n\")[0]\n",
        "\n",
        "    return answer\n",
        "\n",
        "# Start the bot\n",
        "bot.polling()\n",
        "\n",
        "\n"
      ],
      "metadata": {
        "id": "7ti22xMBaVj8",
        "colab": {
          "base_uri": "https://localhost:8080/"
        },
        "outputId": "3a7963e9-3e88-488c-d486-14f76074572e"
      },
      "execution_count": null,
      "outputs": [
        {
          "output_type": "stream",
          "name": "stderr",
          "text": [
            "2023-09-28 07:22:11,268 (__init__.py:1083 MainThread) ERROR - TeleBot: \"Threaded polling exception: A request to the Telegram API was unsuccessful. Error code: 409. Description: Conflict: terminated by other getUpdates request; make sure that only one bot instance is running\"\n",
            "ERROR:TeleBot:Threaded polling exception: A request to the Telegram API was unsuccessful. Error code: 409. Description: Conflict: terminated by other getUpdates request; make sure that only one bot instance is running\n",
            "2023-09-28 07:22:11,273 (__init__.py:1085 MainThread) ERROR - TeleBot: \"Exception traceback:\n",
            "Traceback (most recent call last):\n",
            "  File \"/usr/local/lib/python3.10/dist-packages/telebot/__init__.py\", line 1073, in __threaded_polling\n",
            "    polling_thread.raise_exceptions()\n",
            "  File \"/usr/local/lib/python3.10/dist-packages/telebot/util.py\", line 108, in raise_exceptions\n",
            "    raise self.exception_info\n",
            "  File \"/usr/local/lib/python3.10/dist-packages/telebot/util.py\", line 90, in run\n",
            "    task(*args, **kwargs)\n",
            "  File \"/usr/local/lib/python3.10/dist-packages/telebot/__init__.py\", line 649, in __retrieve_updates\n",
            "    updates = self.get_updates(offset=(self.last_update_id + 1),\n",
            "  File \"/usr/local/lib/python3.10/dist-packages/telebot/__init__.py\", line 623, in get_updates\n",
            "    json_updates = apihelper.get_updates(self.token, offset, limit, timeout, allowed_updates, long_polling_timeout)\n",
            "  File \"/usr/local/lib/python3.10/dist-packages/telebot/apihelper.py\", line 321, in get_updates\n",
            "    return _make_request(token, method_url, params=payload)\n",
            "  File \"/usr/local/lib/python3.10/dist-packages/telebot/apihelper.py\", line 162, in _make_request\n",
            "    json_result = _check_result(method_name, result)\n",
            "  File \"/usr/local/lib/python3.10/dist-packages/telebot/apihelper.py\", line 189, in _check_result\n",
            "    raise ApiTelegramException(method_name, result, result_json)\n",
            "telebot.apihelper.ApiTelegramException: A request to the Telegram API was unsuccessful. Error code: 409. Description: Conflict: terminated by other getUpdates request; make sure that only one bot instance is running\n",
            "\"\n",
            "ERROR:TeleBot:Exception traceback:\n",
            "Traceback (most recent call last):\n",
            "  File \"/usr/local/lib/python3.10/dist-packages/telebot/__init__.py\", line 1073, in __threaded_polling\n",
            "    polling_thread.raise_exceptions()\n",
            "  File \"/usr/local/lib/python3.10/dist-packages/telebot/util.py\", line 108, in raise_exceptions\n",
            "    raise self.exception_info\n",
            "  File \"/usr/local/lib/python3.10/dist-packages/telebot/util.py\", line 90, in run\n",
            "    task(*args, **kwargs)\n",
            "  File \"/usr/local/lib/python3.10/dist-packages/telebot/__init__.py\", line 649, in __retrieve_updates\n",
            "    updates = self.get_updates(offset=(self.last_update_id + 1),\n",
            "  File \"/usr/local/lib/python3.10/dist-packages/telebot/__init__.py\", line 623, in get_updates\n",
            "    json_updates = apihelper.get_updates(self.token, offset, limit, timeout, allowed_updates, long_polling_timeout)\n",
            "  File \"/usr/local/lib/python3.10/dist-packages/telebot/apihelper.py\", line 321, in get_updates\n",
            "    return _make_request(token, method_url, params=payload)\n",
            "  File \"/usr/local/lib/python3.10/dist-packages/telebot/apihelper.py\", line 162, in _make_request\n",
            "    json_result = _check_result(method_name, result)\n",
            "  File \"/usr/local/lib/python3.10/dist-packages/telebot/apihelper.py\", line 189, in _check_result\n",
            "    raise ApiTelegramException(method_name, result, result_json)\n",
            "telebot.apihelper.ApiTelegramException: A request to the Telegram API was unsuccessful. Error code: 409. Description: Conflict: terminated by other getUpdates request; make sure that only one bot instance is running\n",
            "\n"
          ]
        }
      ]
    }
  ]
}